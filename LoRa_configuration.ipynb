{
  "nbformat": 4,
  "nbformat_minor": 0,
  "metadata": {
    "colab": {
      "provenance": [],
      "machine_shape": "hm",
      "authorship_tag": "ABX9TyOcU438cTGG7402243+3Xbs",
      "include_colab_link": true
    },
    "kernelspec": {
      "name": "python3",
      "display_name": "Python 3"
    },
    "language_info": {
      "name": "python"
    },
    "gpuClass": "standard"
  },
  "cells": [
    {
      "cell_type": "markdown",
      "metadata": {
        "id": "view-in-github",
        "colab_type": "text"
      },
      "source": [
        "<a href=\"https://colab.research.google.com/github/DanchengLiu/device_classify/blob/main/LoRa_configuration.ipynb\" target=\"_parent\"><img src=\"https://colab.research.google.com/assets/colab-badge.svg\" alt=\"Open In Colab\"/></a>"
      ]
    },
    {
      "cell_type": "code",
      "execution_count": 1,
      "metadata": {
        "id": "lpu53hfy4h_3"
      },
      "outputs": [],
      "source": [
        "import os\n",
        "'''\n",
        "!wget --recursive --no-parent -R \"index.html*\" https://research.engr.oregonstate.edu/hamdaoui/RFFP-dataset/Diff_Days_Indoor_Setup/Day1/Device1/\n",
        "!wget --recursive --no-parent -R \"index.html*\" https://research.engr.oregonstate.edu/hamdaoui/RFFP-dataset/Diff_Days_Indoor_Setup/Day1/Device2/\n",
        "!wget --recursive --no-parent -R \"index.html*\" https://research.engr.oregonstate.edu/hamdaoui/RFFP-dataset/Diff_Days_Indoor_Setup/Day2/Device1/\n",
        "!wget --recursive --no-parent -R \"index.html*\" https://research.engr.oregonstate.edu/hamdaoui/RFFP-dataset/Diff_Days_Indoor_Setup/Day2/Device2/\n",
        "'''\n",
        "for i in range(0,4):\n",
        "  for j in range(0,25):\n",
        "    cmd = 'wget --recursive --no-parent -R \"index.html*\" https://research.engr.oregonstate.edu/hamdaoui/RFFP-dataset/Diff_Configurations_Setup/Config'+str(i+1)+'/IQ_'+str(j+1)+'.dat'\n",
        "    os.system(cmd)"
      ]
    },
    {
      "cell_type": "code",
      "source": [
        "from google.colab import drive\n",
        "drive.mount('/content/drive')"
      ],
      "metadata": {
        "colab": {
          "base_uri": "https://localhost:8080/"
        },
        "id": "AE-fXT3bcEt8",
        "outputId": "8f4c7be4-f079-467e-b162-7fdfac961950"
      },
      "execution_count": 2,
      "outputs": [
        {
          "output_type": "stream",
          "name": "stdout",
          "text": [
            "Mounted at /content/drive\n"
          ]
        }
      ]
    },
    {
      "cell_type": "code",
      "source": [
        "!cp -r /content/research.engr.oregonstate.edu /content/drive/MyDrive/configuration"
      ],
      "metadata": {
        "id": "aTJBOQpbb3qJ"
      },
      "execution_count": 6,
      "outputs": []
    },
    {
      "cell_type": "code",
      "source": [
        "!cp -r /content/drive/MyDrive/configuration/ /content/research.engr.oregonstate.edu"
      ],
      "metadata": {
        "id": "ND4BLTG1cPM5"
      },
      "execution_count": 4,
      "outputs": []
    },
    {
      "cell_type": "code",
      "source": [
        "import matplotlib.pyplot as plt\n",
        "import struct\n",
        "import numpy as np"
      ],
      "metadata": {
        "id": "NTGHWj5S6SXw"
      },
      "execution_count": 5,
      "outputs": []
    },
    {
      "cell_type": "code",
      "source": [],
      "metadata": {
        "id": "619W_ZWY7FcM"
      },
      "execution_count": null,
      "outputs": []
    },
    {
      "cell_type": "code",
      "source": [
        "\n",
        "Xd_conf1 = bytes()\n",
        "Xd_conf2 = bytes()\n",
        "for i in range(1):\n",
        "  Xf = open(\"/content/research.engr.oregonstate.edu/hamdaoui/RFFP-dataset/Diff_Configurations_Setup/Config1/IQ_1.dat\",'rb')\n",
        "  Xd_conf1 = Xd_conf1+Xf.read()\n",
        "  Xf.close()\n",
        "for i in range(1):\n",
        "  Xf = open(\"/content/research.engr.oregonstate.edu/hamdaoui/RFFP-dataset/Diff_Configurations_Setup/Config2/IQ_1.dat\",'rb')\n",
        "  Xd_conf2 = Xd_conf2+Xf.read()\n",
        "  Xf.close()"
      ],
      "metadata": {
        "id": "314TlkNz7DXh"
      },
      "execution_count": 3,
      "outputs": []
    },
    {
      "cell_type": "code",
      "source": [
        "data = []\n",
        "for i in range(len(Xd_conf1)//4):\n",
        "  data.append(struct.unpack('f',Xd_conf1[i*4:i*4+4]))\n",
        "data = np.array(data)\n",
        "real = data[1:len(data)-1:2]\n",
        "imag = data[2:len(data):2]\n",
        "plt.plot(real[:5000], imag[:5000], 'bo')\n",
        "\n",
        "X_psd1 = real[:5000]+1j*imag[:5000]\n"
      ],
      "metadata": {
        "colab": {
          "base_uri": "https://localhost:8080/",
          "height": 265
        },
        "id": "8iT4LSg27dnF",
        "outputId": "33aa3be1-5365-4a87-efc3-951053bdff3f"
      },
      "execution_count": 4,
      "outputs": [
        {
          "output_type": "display_data",
          "data": {
            "text/plain": [
              "<Figure size 432x288 with 1 Axes>"
            ],
            "image/png": "[encoded data removed]"
          },
          "metadata": {
            "needs_background": "light"
          }
        }
      ]
    },
    {
      "cell_type": "code",
      "source": [],
      "metadata": {
        "id": "5H7dALNJ7uzk"
      },
      "execution_count": null,
      "outputs": []
    },
    {
      "cell_type": "code",
      "source": [
        "data = []\n",
        "for i in range(len(Xd_conf2)//4):\n",
        "  data.append(struct.unpack('f',Xd_conf2[i*4:i*4+4]))\n",
        "data = np.array(data)\n",
        "real = data[1:len(data)-1:2]\n",
        "imag = data[2:len(data):2]\n",
        "plt.plot(real[:5000], imag[:5000], 'bo')\n",
        "\n",
        "X_psd2 = real[:5000]+1j*imag[:5000]"
      ],
      "metadata": {
        "colab": {
          "base_uri": "https://localhost:8080/",
          "height": 265
        },
        "id": "7i89hFrY7lao",
        "outputId": "0c3dff6f-cc3d-4b2c-aad0-1a8fb83438c9"
      },
      "execution_count": 5,
      "outputs": [
        {
          "output_type": "display_data",
          "data": {
            "text/plain": [
              "<Figure size 432x288 with 1 Axes>"
            ],
            "image/png": "[encoded data removed]"
          },
          "metadata": {
            "needs_background": "light"
          }
        }
      ]
    },
    {
      "cell_type": "code",
      "source": [
        "plt.ylim([-100, 0])\n",
        "plt.psd(X_psd1[:,0])\n",
        "plt.psd(X_psd2[:,0])\n",
        "plt.show()"
      ],
      "metadata": {
        "colab": {
          "base_uri": "https://localhost:8080/",
          "height": 283
        },
        "id": "v1uNjPk373t4",
        "outputId": "e436ff91-0a1d-4c2d-de3b-32de718e950d"
      },
      "execution_count": 8,
      "outputs": [
        {
          "output_type": "display_data",
          "data": {
            "text/plain": [
              "<Figure size 432x288 with 1 Axes>"
            ],
            "image/png": "[encoded data removed]"
          },
          "metadata": {
            "needs_background": "light"
          }
        }
      ]
    },
    {
      "cell_type": "code",
      "source": [],
      "metadata": {
        "id": "oPQI2VJ-8Dtm"
      },
      "execution_count": null,
      "outputs": []
    },
    {
      "cell_type": "code",
      "source": [
        "!pip install tensorflow-addons"
      ],
      "metadata": {
        "colab": {
          "base_uri": "https://localhost:8080/"
        },
        "id": "tHuABPij674k",
        "outputId": "e487a0c8-15dd-42e1-9656-40669c1b3b3f"
      },
      "execution_count": 6,
      "outputs": [
        {
          "output_type": "stream",
          "name": "stdout",
          "text": [
            "Looking in indexes: https://pypi.org/simple, https://us-python.pkg.dev/colab-wheels/public/simple/\n",
            "Collecting tensorflow-addons\n",
            "  Downloading tensorflow_addons-0.18.0-cp37-cp37m-manylinux_2_17_x86_64.manylinux2014_x86_64.whl (1.1 MB)\n",
            "\u001b[K     |████████████████████████████████| 1.1 MB 5.1 MB/s \n",
            "\u001b[?25hRequirement already satisfied: typeguard>=2.7 in /usr/local/lib/python3.7/dist-packages (from tensorflow-addons) (2.7.1)\n",
            "Requirement already satisfied: packaging in /usr/local/lib/python3.7/dist-packages (from tensorflow-addons) (21.3)\n",
            "Requirement already satisfied: pyparsing!=3.0.5,>=2.0.2 in /usr/local/lib/python3.7/dist-packages (from packaging->tensorflow-addons) (3.0.9)\n",
            "Installing collected packages: tensorflow-addons\n",
            "Successfully installed tensorflow-addons-0.18.0\n"
          ]
        }
      ]
    },
    {
      "cell_type": "code",
      "source": [
        "import struct\n",
        "import numpy as np\n",
        "import tensorflow_addons as tfa\n",
        "from keras.utils import np_utils\n",
        "import keras.models as models\n",
        "from keras.layers.core import Reshape,Dense,Dropout,Activation,Flatten\n",
        "from keras.layers.noise import GaussianNoise\n",
        "from keras.layers.convolutional import Convolution2D, MaxPooling2D, ZeroPadding2D, SeparableConv2D, DepthwiseConv2D\n",
        "from keras.layers import AveragePooling2D\n",
        "from keras.regularizers import *\n",
        "from tensorflow.keras.optimizers import Adam\n",
        "import matplotlib.pyplot as plt\n",
        "import seaborn as sns\n",
        "import _pickle as cPickle, random\n",
        "import sys, keras"
      ],
      "metadata": {
        "id": "Lq6ClczE5Pn1"
      },
      "execution_count": 7,
      "outputs": []
    },
    {
      "cell_type": "code",
      "source": [
        "temp = bytes()\n",
        "data = []\n",
        "for i in range(0,25):\n",
        "  Xf = open(\"/content/research.engr.oregonstate.edu/hamdaoui/RFFP-dataset/Diff_Configurations_Setup/Config1/IQ_\"+str(i+1)+\".dat\",'rb')\n",
        "  temp = Xf.read()\n",
        "  # use only 1/10 data for now\n",
        "  for j in range(len(temp)//4//10):\n",
        "    data.append(struct.unpack('f',temp[j*4:j*4+4]))\n",
        "  temp = bytes()\n",
        "  Xf.close()\n",
        "\n",
        "\n",
        "\n",
        "data = np.array(data)\n",
        "print(data.shape)"
      ],
      "metadata": {
        "colab": {
          "base_uri": "https://localhost:8080/"
        },
        "id": "Wg7O3rOq5RpP",
        "outputId": "a17d3bb3-1c1c-4d40-ba6d-731aa8114ab6"
      },
      "execution_count": 9,
      "outputs": [
        {
          "output_type": "stream",
          "name": "stdout",
          "text": [
            "(100000000, 1)\n"
          ]
        }
      ]
    },
    {
      "cell_type": "code",
      "source": [],
      "metadata": {
        "id": "vkkiasKl6X1p"
      },
      "execution_count": null,
      "outputs": []
    },
    {
      "cell_type": "code",
      "source": [
        "X = np.zeros((2, len(data)//2))\n",
        "\n",
        "X[0,0:len(data)//2] = data[0:len(data)-1:2,0]\n",
        "X[1,0:len(data)//2] = data[1:len(data):2,0]\n",
        "\n",
        "X_reshape = np.reshape(X, (2,len(X[0])//8000,8000)).transpose((1,0,2))\n",
        "print(X_reshape.shape)"
      ],
      "metadata": {
        "colab": {
          "base_uri": "https://localhost:8080/"
        },
        "id": "cfcPfXET5n1k",
        "outputId": "b563c0e4-a79b-4c83-f59d-d0778c0f9659"
      },
      "execution_count": 10,
      "outputs": [
        {
          "output_type": "stream",
          "name": "stdout",
          "text": [
            "(6250, 2, 8000)\n"
          ]
        }
      ]
    },
    {
      "cell_type": "code",
      "source": [
        "Y = []\n",
        "for i in range(0,25):\n",
        "  for _ in range(250):\n",
        "    Y.append(i+1)\n",
        "Y = np.array(Y)\n",
        "print(Y.shape)"
      ],
      "metadata": {
        "colab": {
          "base_uri": "https://localhost:8080/"
        },
        "id": "l172K83U5pMz",
        "outputId": "125efa24-fcf1-4bb1-bbfb-82b9108d9365"
      },
      "execution_count": 11,
      "outputs": [
        {
          "output_type": "stream",
          "name": "stdout",
          "text": [
            "(6250,)\n"
          ]
        }
      ]
    },
    {
      "cell_type": "code",
      "source": [
        "def to_onehot(yy):\n",
        "    yy1 = np.zeros([len(yy), max(yy)])\n",
        "    yy1[np.arange(len(yy)),yy-1] = 1\n",
        "    return yy1"
      ],
      "metadata": {
        "id": "WL0kuh-I5qR4"
      },
      "execution_count": 12,
      "outputs": []
    },
    {
      "cell_type": "code",
      "source": [
        "n_examples = 6250\n",
        "n_train = int(0.8*6250)\n",
        "train_idx = np.random.choice(range(0,n_examples), size=n_train, replace=False)\n",
        "test_idx = list(set(range(0,n_examples))-set(train_idx))\n",
        "\n",
        "# normalize\n",
        "for i in range(len(X_reshape)):\n",
        "  X_reshape[i] = X_reshape[i]/np.linalg.norm(X_reshape[i])\n",
        "\n",
        "X_train = X_reshape[train_idx]\n",
        "X_test =  X_reshape[test_idx]\n",
        "Y_train = to_onehot(Y[train_idx])\n",
        "Y_test =  to_onehot(Y[test_idx])"
      ],
      "metadata": {
        "id": "GYAzY-FM5sJU"
      },
      "execution_count": 13,
      "outputs": []
    },
    {
      "cell_type": "code",
      "source": [
        "plt.ylim([-100, 0])\n",
        "\n",
        "X = X_train[0][0]+1j*X_train[0][1]\n",
        "print(X.shape)\n",
        "plt.psd(X)\n",
        "print(Y_train[0])\n",
        "\n",
        "X = X_train[2][0]+1j*X_train[2][1]\n",
        "plt.psd(X)\n",
        "print(Y_train[2])\n",
        "plt.show()"
      ],
      "metadata": {
        "colab": {
          "base_uri": "https://localhost:8080/",
          "height": 370
        },
        "id": "bHgsVHIU6bgI",
        "outputId": "461a0887-d766-4bfc-ceba-f28bb24ba3a4"
      },
      "execution_count": 14,
      "outputs": [
        {
          "output_type": "stream",
          "name": "stdout",
          "text": [
            "(8000,)\n",
            "[0. 0. 0. 0. 0. 0. 0. 0. 0. 0. 0. 0. 1. 0. 0. 0. 0. 0. 0. 0. 0. 0. 0. 0.\n",
            " 0.]\n",
            "[0. 0. 0. 0. 0. 0. 0. 0. 0. 0. 0. 0. 0. 0. 0. 0. 0. 0. 0. 0. 1. 0. 0. 0.\n",
            " 0.]\n"
          ]
        },
        {
          "output_type": "display_data",
          "data": {
            "text/plain": [
              "<Figure size 432x288 with 1 Axes>"
            ],
            "image/png": "[encoded data removed]"
          },
          "metadata": {
            "needs_background": "light"
          }
        }
      ]
    },
    {
      "cell_type": "code",
      "source": [
        "import os\n",
        "from keras.layers import CuDNNLSTM\n",
        "from keras.models import Model\n",
        "from keras.layers import Input,Dense,Conv1D,Dropout,concatenate,Reshape, AveragePooling1D, AveragePooling2D, LeakyReLU, Flatten, BatchNormalization, MaxPooling2D, MaxPooling1D\n",
        "from keras.layers.convolutional import Conv2D, SeparableConv2D, DepthwiseConv2D, DepthwiseConv1D\n",
        "\n",
        "def CNN(weights=None,\n",
        "             input_shape=[2,8000],\n",
        "             classes=2,\n",
        "             **kwargs):\n",
        "    if weights is not None and not (os.path.exists(weights)):\n",
        "        raise ValueError('The `weights` argument should be either '\n",
        "                         '`None` (random initialization), '\n",
        "                         'or the path to the weights file to be loaded.')\n",
        "\n",
        "    dr=0.5\n",
        "\n",
        "    #input1=Input(input_shape+[1],name='To3D')\n",
        "\n",
        "    input0=Input(input_shape+[1],name='Combined')\n",
        "    \n",
        "\n",
        "\n",
        "    # Part-A: Multi-channel Inputs and Spatial Characteristics Mapping Section\n",
        "    x=Conv2D(16,(1,4),name=\"Conv1\",kernel_initializer=\"glorot_uniform\")(input0)\n",
        "    x=BatchNormalization()(x)\n",
        "    x=LeakyReLU()(x)\n",
        "    x=MaxPooling2D(pool_size = (1,2), strides=(1,2))(x)\n",
        "\n",
        "    x=Conv2D(24,(1,4),name=\"Conv2\",kernel_initializer=\"glorot_uniform\")(x)\n",
        "    x=BatchNormalization()(x)\n",
        "    x=LeakyReLU()(x)\n",
        "    x=MaxPooling2D(pool_size = (1,2), strides=(1,2))(x)\n",
        "\n",
        "    x=Conv2D(32,(1,4),name=\"Conv3\",kernel_initializer=\"glorot_uniform\")(x)\n",
        "    x=BatchNormalization()(x)\n",
        "    x=LeakyReLU()(x)\n",
        "    x=MaxPooling2D(pool_size = (1,2), strides=(1,2))(x)\n",
        "\n",
        "    x=Conv2D(48,(1,4),name=\"Conv4\",kernel_initializer=\"glorot_uniform\")(x)\n",
        "    x=BatchNormalization()(x)\n",
        "    x=LeakyReLU()(x)\n",
        "    x=MaxPooling2D(pool_size = (1,2), strides=(1,2))(x)\n",
        "\n",
        "    x=Conv2D(64,(1,4),name=\"Conv5\",kernel_initializer=\"glorot_uniform\")(x)\n",
        "    x=BatchNormalization()(x)\n",
        "    x=LeakyReLU()(x)\n",
        "    x=MaxPooling2D(pool_size = (1,2), strides=(1,2))(x)\n",
        "\n",
        "    x=Conv2D(96,(2,4),name=\"Conv6\",kernel_initializer=\"glorot_uniform\")(x)\n",
        "    x=BatchNormalization()(x)\n",
        "    x=LeakyReLU()(x)\n",
        "    x=AveragePooling2D(pool_size = (1,244))(x)\n",
        "\n",
        "    #DNN\n",
        "    x=Flatten()(x)\n",
        "    x=Dense(25,name=\"FC1\")(x)\n",
        "    x=LeakyReLU()(x)\n",
        "    x=Dropout(dr)(x)\n",
        "\n",
        "    \n",
        "    x=Dense(classes,activation=\"softmax\",name=\"Softmax\")(x)\n",
        "\n",
        "    model=Model(inputs=input0,outputs=x)\n",
        "\n",
        "    # Load weights.\n",
        "    if weights is not None:\n",
        "        model.load_weights(weights)\n",
        "    \n",
        "    return model"
      ],
      "metadata": {
        "id": "YZH5ak5e5yAk"
      },
      "execution_count": 28,
      "outputs": []
    },
    {
      "cell_type": "code",
      "source": [
        "model = CNN(classes=25)\n",
        "model.compile(loss='categorical_crossentropy', optimizer=tfa.optimizers.SGDW(weight_decay = 0.0001, learning_rate=0.07))\n",
        "model.summary()"
      ],
      "metadata": {
        "colab": {
          "base_uri": "https://localhost:8080/"
        },
        "id": "SkCG9XxW5viQ",
        "outputId": "d01dfd54-b956-41ee-ebf0-97c91e0de402"
      },
      "execution_count": 29,
      "outputs": [
        {
          "output_type": "stream",
          "name": "stdout",
          "text": [
            "Model: \"model_4\"\n",
            "_________________________________________________________________\n",
            " Layer (type)                Output Shape              Param #   \n",
            "=================================================================\n",
            " Combined (InputLayer)       [(None, 2, 8000, 1)]      0         \n",
            "                                                                 \n",
            " Conv1 (Conv2D)              (None, 2, 7997, 16)       80        \n",
            "                                                                 \n",
            " batch_normalization_36 (Bat  (None, 2, 7997, 16)      64        \n",
            " chNormalization)                                                \n",
            "                                                                 \n",
            " leaky_re_lu_40 (LeakyReLU)  (None, 2, 7997, 16)       0         \n",
            "                                                                 \n",
            " max_pooling2d_30 (MaxPoolin  (None, 2, 3998, 16)      0         \n",
            " g2D)                                                            \n",
            "                                                                 \n",
            " Conv2 (Conv2D)              (None, 2, 3995, 24)       1560      \n",
            "                                                                 \n",
            " batch_normalization_37 (Bat  (None, 2, 3995, 24)      96        \n",
            " chNormalization)                                                \n",
            "                                                                 \n",
            " leaky_re_lu_41 (LeakyReLU)  (None, 2, 3995, 24)       0         \n",
            "                                                                 \n",
            " max_pooling2d_31 (MaxPoolin  (None, 2, 1997, 24)      0         \n",
            " g2D)                                                            \n",
            "                                                                 \n",
            " Conv3 (Conv2D)              (None, 2, 1994, 32)       3104      \n",
            "                                                                 \n",
            " batch_normalization_38 (Bat  (None, 2, 1994, 32)      128       \n",
            " chNormalization)                                                \n",
            "                                                                 \n",
            " leaky_re_lu_42 (LeakyReLU)  (None, 2, 1994, 32)       0         \n",
            "                                                                 \n",
            " max_pooling2d_32 (MaxPoolin  (None, 2, 997, 32)       0         \n",
            " g2D)                                                            \n",
            "                                                                 \n",
            " Conv4 (Conv2D)              (None, 2, 994, 48)        6192      \n",
            "                                                                 \n",
            " batch_normalization_39 (Bat  (None, 2, 994, 48)       192       \n",
            " chNormalization)                                                \n",
            "                                                                 \n",
            " leaky_re_lu_43 (LeakyReLU)  (None, 2, 994, 48)        0         \n",
            "                                                                 \n",
            " max_pooling2d_33 (MaxPoolin  (None, 2, 497, 48)       0         \n",
            " g2D)                                                            \n",
            "                                                                 \n",
            " Conv5 (Conv2D)              (None, 2, 494, 64)        12352     \n",
            "                                                                 \n",
            " batch_normalization_40 (Bat  (None, 2, 494, 64)       256       \n",
            " chNormalization)                                                \n",
            "                                                                 \n",
            " leaky_re_lu_44 (LeakyReLU)  (None, 2, 494, 64)        0         \n",
            "                                                                 \n",
            " max_pooling2d_34 (MaxPoolin  (None, 2, 247, 64)       0         \n",
            " g2D)                                                            \n",
            "                                                                 \n",
            " Conv6 (Conv2D)              (None, 1, 244, 96)        49248     \n",
            "                                                                 \n",
            " batch_normalization_41 (Bat  (None, 1, 244, 96)       384       \n",
            " chNormalization)                                                \n",
            "                                                                 \n",
            " leaky_re_lu_45 (LeakyReLU)  (None, 1, 244, 96)        0         \n",
            "                                                                 \n",
            " average_pooling2d_6 (Averag  (None, 1, 1, 96)         0         \n",
            " ePooling2D)                                                     \n",
            "                                                                 \n",
            " flatten_4 (Flatten)         (None, 96)                0         \n",
            "                                                                 \n",
            " FC1 (Dense)                 (None, 25)                2425      \n",
            "                                                                 \n",
            " leaky_re_lu_46 (LeakyReLU)  (None, 25)                0         \n",
            "                                                                 \n",
            " dropout_4 (Dropout)         (None, 25)                0         \n",
            "                                                                 \n",
            " Softmax (Dense)             (None, 25)                650       \n",
            "                                                                 \n",
            "=================================================================\n",
            "Total params: 76,731\n",
            "Trainable params: 76,171\n",
            "Non-trainable params: 560\n",
            "_________________________________________________________________\n"
          ]
        }
      ]
    },
    {
      "cell_type": "code",
      "source": [
        "batch_size=100\n",
        "nb_epoch=100\n",
        "filepath = 'CNN.h5'\n",
        "with tf.device('/device:GPU:0'):\n",
        "    history = model.fit(X_train,\n",
        "        Y_train,\n",
        "        batch_size=batch_size,\n",
        "        epochs=nb_epoch,\n",
        "        verbose=2,\n",
        "        validation_data=(X_test, Y_test),\n",
        "        callbacks = [\n",
        "            keras.callbacks.ModelCheckpoint(filepath, monitor='val_loss', verbose=0, save_best_only=True, mode='auto'),\n",
        "            keras.callbacks.EarlyStopping(monitor='val_loss', patience=20, verbose=0, mode='auto')\n",
        "        ])\n",
        "# we re-load the best weights once training is finished\n",
        "model.load_weights(filepath)"
      ],
      "metadata": {
        "colab": {
          "base_uri": "https://localhost:8080/"
        },
        "id": "x3p_sAgb509Y",
        "outputId": "e2961d5f-0c3c-4d82-fa26-9832de57c90e"
      },
      "execution_count": 30,
      "outputs": [
        {
          "output_type": "stream",
          "name": "stdout",
          "text": [
            "Epoch 1/100\n",
            "50/50 - 102s - loss: 3.2321 - val_loss: 3.2323 - 102s/epoch - 2s/step\n",
            "Epoch 2/100\n",
            "50/50 - 102s - loss: 3.1532 - val_loss: 3.2694 - 102s/epoch - 2s/step\n",
            "Epoch 3/100\n",
            "50/50 - 102s - loss: 2.9924 - val_loss: 4.5144 - 102s/epoch - 2s/step\n",
            "Epoch 4/100\n",
            "50/50 - 106s - loss: 2.8290 - val_loss: 7.9372 - 106s/epoch - 2s/step\n",
            "Epoch 5/100\n",
            "50/50 - 102s - loss: 2.7126 - val_loss: 11.1081 - 102s/epoch - 2s/step\n",
            "Epoch 6/100\n",
            "50/50 - 102s - loss: 2.6054 - val_loss: 16.6533 - 102s/epoch - 2s/step\n",
            "Epoch 7/100\n",
            "50/50 - 101s - loss: 2.4946 - val_loss: 18.6944 - 101s/epoch - 2s/step\n",
            "Epoch 8/100\n",
            "50/50 - 102s - loss: 2.4352 - val_loss: 14.7664 - 102s/epoch - 2s/step\n",
            "Epoch 9/100\n",
            "50/50 - 101s - loss: 2.3810 - val_loss: 46.5165 - 101s/epoch - 2s/step\n",
            "Epoch 10/100\n",
            "50/50 - 100s - loss: 2.3297 - val_loss: 355.6519 - 100s/epoch - 2s/step\n",
            "Epoch 11/100\n",
            "50/50 - 101s - loss: 2.2988 - val_loss: 22.3676 - 101s/epoch - 2s/step\n",
            "Epoch 12/100\n",
            "50/50 - 101s - loss: 2.2048 - val_loss: 28.9560 - 101s/epoch - 2s/step\n",
            "Epoch 13/100\n",
            "50/50 - 101s - loss: 2.1988 - val_loss: 273.0114 - 101s/epoch - 2s/step\n",
            "Epoch 14/100\n",
            "50/50 - 102s - loss: 2.1640 - val_loss: 44.2186 - 102s/epoch - 2s/step\n",
            "Epoch 15/100\n",
            "50/50 - 102s - loss: 2.1538 - val_loss: 9.4580 - 102s/epoch - 2s/step\n",
            "Epoch 16/100\n",
            "50/50 - 101s - loss: 2.0575 - val_loss: 47.3501 - 101s/epoch - 2s/step\n",
            "Epoch 17/100\n",
            "50/50 - 103s - loss: 2.0288 - val_loss: 32.7327 - 103s/epoch - 2s/step\n",
            "Epoch 18/100\n",
            "50/50 - 102s - loss: 1.9837 - val_loss: 80.5623 - 102s/epoch - 2s/step\n",
            "Epoch 19/100\n",
            "50/50 - 102s - loss: 2.0313 - val_loss: 66.4329 - 102s/epoch - 2s/step\n",
            "Epoch 20/100\n",
            "50/50 - 103s - loss: 1.9414 - val_loss: 107.5236 - 103s/epoch - 2s/step\n",
            "Epoch 21/100\n",
            "50/50 - 106s - loss: 1.9841 - val_loss: 389.1300 - 106s/epoch - 2s/step\n"
          ]
        }
      ]
    },
    {
      "cell_type": "code",
      "source": [
        "pred = model.predict(X_test)"
      ],
      "metadata": {
        "colab": {
          "base_uri": "https://localhost:8080/"
        },
        "id": "gEOwPBo3555Y",
        "outputId": "59116b26-02b2-4143-8418-a3265da6db53"
      },
      "execution_count": 31,
      "outputs": [
        {
          "output_type": "stream",
          "name": "stdout",
          "text": [
            "40/40 [==============================] - 9s 216ms/step\n"
          ]
        }
      ]
    },
    {
      "cell_type": "code",
      "source": [
        "acc = 0\n",
        "for i in range(len(Y_test)):\n",
        "  if np.argmax(Y_test[i])==np.argmax(pred[i]):\n",
        "    acc+=1\n",
        "print(acc/(len(Y_test)))\n"
      ],
      "metadata": {
        "colab": {
          "base_uri": "https://localhost:8080/"
        },
        "id": "Ga9STlI257Ii",
        "outputId": "73dc2042-32ba-4554-96be-76f06c24778c"
      },
      "execution_count": 32,
      "outputs": [
        {
          "output_type": "stream",
          "name": "stdout",
          "text": [
            "0.0336\n"
          ]
        }
      ]
    },
    {
      "cell_type": "code",
      "source": [
        "plt.ylim([-100, 0])\n",
        "\n",
        "X = X_train[0][0]+1j*X_train[0][1]\n",
        "print(X.shape)\n",
        "plt.psd(X)\n",
        "print(Y_train[0])\n",
        "\n",
        "X = X_train[1][0]+1j*X_train[1][1]\n",
        "plt.psd(X)\n",
        "print(Y_train[1])\n",
        "plt.show()"
      ],
      "metadata": {
        "colab": {
          "base_uri": "https://localhost:8080/",
          "height": 370
        },
        "id": "Jj3r01u5rX7p",
        "outputId": "3842f583-af75-498d-c677-49ce1b96c4a2"
      },
      "execution_count": 34,
      "outputs": [
        {
          "output_type": "stream",
          "name": "stdout",
          "text": [
            "(8000,)\n",
            "[0. 0. 0. 0. 0. 0. 0. 0. 0. 0. 0. 0. 1. 0. 0. 0. 0. 0. 0. 0. 0. 0. 0. 0.\n",
            " 0.]\n",
            "[0. 0. 0. 0. 0. 0. 0. 0. 0. 0. 0. 0. 0. 0. 0. 0. 0. 1. 0. 0. 0. 0. 0. 0.\n",
            " 0.]\n"
          ]
        },
        {
          "output_type": "display_data",
          "data": {
            "text/plain": [
              "<Figure size 432x288 with 1 Axes>"
            ],
            "image/png": "[encoded data removed]"
          },
          "metadata": {
            "needs_background": "light"
          }
        }
      ]
    }
  ]
}